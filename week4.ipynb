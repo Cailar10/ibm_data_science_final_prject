{
 "cells": [
  {
   "cell_type": "markdown",
   "id": "68a51b8b",
   "metadata": {},
   "source": [
    "# PLANTEAMIENTO DEL PROBLEMA\n",
    "Problema\n",
    "El problema que trataremos es :¿Cuales son los mejores distritos para vivir en Toronto ?\n",
    "\n",
    "Objetivo\n",
    "Ciertos usuarios desean vivir en Toronto y buscan los mejores distritos con cierto criterios :\n",
    "\n",
    "Precio del departamento\n",
    "\n",
    "Seguridad de la zona\n",
    "\n",
    "Si se encuentra cercano en zonas comerciales\n",
    "\n",
    "Si hay colegios, hospitales cercanos\n",
    "\n",
    "Metodologia\n",
    "Con los datos de Foursquare de Toronto se hallaran los distritos que hay en cada zona marcada por el código postal.\n",
    "\n",
    "Se podran observar todos los distritos y buscar departamentos y colocarlos en un tabla, con las caracteristicas que contiene.\n",
    "\n",
    "Se encerraran todos los departamentos por distritos.\n",
    "\n",
    "Se seleccionara los departamentos que cumplan con la mayoria de los criterios .\n",
    "\n",
    "Datos\n",
    "Todos datos que se usaremos son aquellos brindados por Foursquare, por todo el repositorio de locales con su ubicación que permiten determinar la conveniencia geográfica de la puesta en marcha de buscar departamentos de una determinada zona."
   ]
  }
 ],
 "metadata": {
  "kernelspec": {
   "display_name": "Python 3 (ipykernel)",
   "language": "python",
   "name": "python3"
  },
  "language_info": {
   "codemirror_mode": {
    "name": "ipython",
    "version": 3
   },
   "file_extension": ".py",
   "mimetype": "text/x-python",
   "name": "python",
   "nbconvert_exporter": "python",
   "pygments_lexer": "ipython3",
   "version": "3.9.13"
  }
 },
 "nbformat": 4,
 "nbformat_minor": 5
}
